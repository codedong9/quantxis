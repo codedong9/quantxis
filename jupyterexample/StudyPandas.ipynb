{
 "cells": [
  {
   "cell_type": "code",
   "execution_count": 81,
   "metadata": {},
   "outputs": [],
   "source": [
    "import pandas as pd\n",
    "import numpy as np"
   ]
  },
  {
   "cell_type": "code",
   "execution_count": 82,
   "metadata": {},
   "outputs": [],
   "source": [
    "from pandas_datareader import data as wb"
   ]
  },
  {
   "cell_type": "code",
   "execution_count": 83,
   "metadata": {},
   "outputs": [],
   "source": [
    "import matplotlib.pyplot as plt"
   ]
  },
  {
   "cell_type": "code",
   "execution_count": 84,
   "metadata": {},
   "outputs": [],
   "source": [
    "PG = wb.DataReader('PG', data_source = 'quandl', start=\"1995-1-1\", end='2018-05-01')"
   ]
  },
  {
   "cell_type": "code",
   "execution_count": 85,
   "metadata": {},
   "outputs": [
    {
     "data": {
      "text/html": [
       "<div>\n",
       "<style scoped>\n",
       "    .dataframe tbody tr th:only-of-type {\n",
       "        vertical-align: middle;\n",
       "    }\n",
       "\n",
       "    .dataframe tbody tr th {\n",
       "        vertical-align: top;\n",
       "    }\n",
       "\n",
       "    .dataframe thead th {\n",
       "        text-align: right;\n",
       "    }\n",
       "</style>\n",
       "<table border=\"1\" class=\"dataframe\">\n",
       "  <thead>\n",
       "    <tr style=\"text-align: right;\">\n",
       "      <th></th>\n",
       "      <th>Open</th>\n",
       "      <th>High</th>\n",
       "      <th>Low</th>\n",
       "      <th>Close</th>\n",
       "      <th>Volume</th>\n",
       "      <th>ExDividend</th>\n",
       "      <th>SplitRatio</th>\n",
       "      <th>AdjOpen</th>\n",
       "      <th>AdjHigh</th>\n",
       "      <th>AdjLow</th>\n",
       "      <th>AdjClose</th>\n",
       "      <th>AdjVolume</th>\n",
       "    </tr>\n",
       "    <tr>\n",
       "      <th>Date</th>\n",
       "      <th></th>\n",
       "      <th></th>\n",
       "      <th></th>\n",
       "      <th></th>\n",
       "      <th></th>\n",
       "      <th></th>\n",
       "      <th></th>\n",
       "      <th></th>\n",
       "      <th></th>\n",
       "      <th></th>\n",
       "      <th></th>\n",
       "      <th></th>\n",
       "    </tr>\n",
       "  </thead>\n",
       "  <tbody>\n",
       "    <tr>\n",
       "      <th>2018-03-27</th>\n",
       "      <td>76.53</td>\n",
       "      <td>78.44</td>\n",
       "      <td>76.300</td>\n",
       "      <td>77.79</td>\n",
       "      <td>11257559.0</td>\n",
       "      <td>0.0</td>\n",
       "      <td>1.0</td>\n",
       "      <td>76.53</td>\n",
       "      <td>78.44</td>\n",
       "      <td>76.300</td>\n",
       "      <td>77.79</td>\n",
       "      <td>11257559.0</td>\n",
       "    </tr>\n",
       "    <tr>\n",
       "      <th>2018-03-26</th>\n",
       "      <td>76.57</td>\n",
       "      <td>76.87</td>\n",
       "      <td>76.020</td>\n",
       "      <td>76.41</td>\n",
       "      <td>11959444.0</td>\n",
       "      <td>0.0</td>\n",
       "      <td>1.0</td>\n",
       "      <td>76.57</td>\n",
       "      <td>76.87</td>\n",
       "      <td>76.020</td>\n",
       "      <td>76.41</td>\n",
       "      <td>11959444.0</td>\n",
       "    </tr>\n",
       "    <tr>\n",
       "      <th>2018-03-23</th>\n",
       "      <td>76.79</td>\n",
       "      <td>77.18</td>\n",
       "      <td>75.805</td>\n",
       "      <td>75.91</td>\n",
       "      <td>11626422.0</td>\n",
       "      <td>0.0</td>\n",
       "      <td>1.0</td>\n",
       "      <td>76.79</td>\n",
       "      <td>77.18</td>\n",
       "      <td>75.805</td>\n",
       "      <td>75.91</td>\n",
       "      <td>11626422.0</td>\n",
       "    </tr>\n",
       "    <tr>\n",
       "      <th>2018-03-22</th>\n",
       "      <td>76.83</td>\n",
       "      <td>77.52</td>\n",
       "      <td>76.370</td>\n",
       "      <td>76.41</td>\n",
       "      <td>10396180.0</td>\n",
       "      <td>0.0</td>\n",
       "      <td>1.0</td>\n",
       "      <td>76.83</td>\n",
       "      <td>77.52</td>\n",
       "      <td>76.370</td>\n",
       "      <td>76.41</td>\n",
       "      <td>10396180.0</td>\n",
       "    </tr>\n",
       "    <tr>\n",
       "      <th>2018-03-21</th>\n",
       "      <td>78.05</td>\n",
       "      <td>78.24</td>\n",
       "      <td>76.880</td>\n",
       "      <td>77.04</td>\n",
       "      <td>9776002.0</td>\n",
       "      <td>0.0</td>\n",
       "      <td>1.0</td>\n",
       "      <td>78.05</td>\n",
       "      <td>78.24</td>\n",
       "      <td>76.880</td>\n",
       "      <td>77.04</td>\n",
       "      <td>9776002.0</td>\n",
       "    </tr>\n",
       "  </tbody>\n",
       "</table>\n",
       "</div>"
      ],
      "text/plain": [
       "             Open   High     Low  Close      Volume  ExDividend  SplitRatio  \\\n",
       "Date                                                                          \n",
       "2018-03-27  76.53  78.44  76.300  77.79  11257559.0         0.0         1.0   \n",
       "2018-03-26  76.57  76.87  76.020  76.41  11959444.0         0.0         1.0   \n",
       "2018-03-23  76.79  77.18  75.805  75.91  11626422.0         0.0         1.0   \n",
       "2018-03-22  76.83  77.52  76.370  76.41  10396180.0         0.0         1.0   \n",
       "2018-03-21  78.05  78.24  76.880  77.04   9776002.0         0.0         1.0   \n",
       "\n",
       "            AdjOpen  AdjHigh  AdjLow  AdjClose   AdjVolume  \n",
       "Date                                                        \n",
       "2018-03-27    76.53    78.44  76.300     77.79  11257559.0  \n",
       "2018-03-26    76.57    76.87  76.020     76.41  11959444.0  \n",
       "2018-03-23    76.79    77.18  75.805     75.91  11626422.0  \n",
       "2018-03-22    76.83    77.52  76.370     76.41  10396180.0  \n",
       "2018-03-21    78.05    78.24  76.880     77.04   9776002.0  "
      ]
     },
     "execution_count": 85,
     "metadata": {},
     "output_type": "execute_result"
    }
   ],
   "source": [
    "PG.head()"
   ]
  },
  {
   "cell_type": "code",
   "execution_count": 86,
   "metadata": {},
   "outputs": [
    {
     "data": {
      "text/html": [
       "<div>\n",
       "<style scoped>\n",
       "    .dataframe tbody tr th:only-of-type {\n",
       "        vertical-align: middle;\n",
       "    }\n",
       "\n",
       "    .dataframe tbody tr th {\n",
       "        vertical-align: top;\n",
       "    }\n",
       "\n",
       "    .dataframe thead th {\n",
       "        text-align: right;\n",
       "    }\n",
       "</style>\n",
       "<table border=\"1\" class=\"dataframe\">\n",
       "  <thead>\n",
       "    <tr style=\"text-align: right;\">\n",
       "      <th></th>\n",
       "      <th>Open</th>\n",
       "      <th>High</th>\n",
       "      <th>Low</th>\n",
       "      <th>Close</th>\n",
       "      <th>Volume</th>\n",
       "      <th>ExDividend</th>\n",
       "      <th>SplitRatio</th>\n",
       "      <th>AdjOpen</th>\n",
       "      <th>AdjHigh</th>\n",
       "      <th>AdjLow</th>\n",
       "      <th>AdjClose</th>\n",
       "      <th>AdjVolume</th>\n",
       "    </tr>\n",
       "    <tr>\n",
       "      <th>Date</th>\n",
       "      <th></th>\n",
       "      <th></th>\n",
       "      <th></th>\n",
       "      <th></th>\n",
       "      <th></th>\n",
       "      <th></th>\n",
       "      <th></th>\n",
       "      <th></th>\n",
       "      <th></th>\n",
       "      <th></th>\n",
       "      <th></th>\n",
       "      <th></th>\n",
       "    </tr>\n",
       "  </thead>\n",
       "  <tbody>\n",
       "    <tr>\n",
       "      <th>1995-01-09</th>\n",
       "      <td>61.38</td>\n",
       "      <td>61.63</td>\n",
       "      <td>60.75</td>\n",
       "      <td>60.88</td>\n",
       "      <td>448800.0</td>\n",
       "      <td>0.0</td>\n",
       "      <td>1.0</td>\n",
       "      <td>8.880469</td>\n",
       "      <td>8.916639</td>\n",
       "      <td>8.789320</td>\n",
       "      <td>8.808129</td>\n",
       "      <td>1795200.0</td>\n",
       "    </tr>\n",
       "    <tr>\n",
       "      <th>1995-01-06</th>\n",
       "      <td>60.63</td>\n",
       "      <td>61.63</td>\n",
       "      <td>60.63</td>\n",
       "      <td>61.25</td>\n",
       "      <td>859500.0</td>\n",
       "      <td>0.0</td>\n",
       "      <td>1.0</td>\n",
       "      <td>8.771959</td>\n",
       "      <td>8.916639</td>\n",
       "      <td>8.771959</td>\n",
       "      <td>8.861660</td>\n",
       "      <td>3438000.0</td>\n",
       "    </tr>\n",
       "    <tr>\n",
       "      <th>1995-01-05</th>\n",
       "      <td>61.50</td>\n",
       "      <td>61.75</td>\n",
       "      <td>60.88</td>\n",
       "      <td>61.00</td>\n",
       "      <td>579900.0</td>\n",
       "      <td>0.0</td>\n",
       "      <td>1.0</td>\n",
       "      <td>8.897830</td>\n",
       "      <td>8.934000</td>\n",
       "      <td>8.808129</td>\n",
       "      <td>8.825490</td>\n",
       "      <td>2319600.0</td>\n",
       "    </tr>\n",
       "    <tr>\n",
       "      <th>1995-01-04</th>\n",
       "      <td>62.63</td>\n",
       "      <td>62.63</td>\n",
       "      <td>61.25</td>\n",
       "      <td>61.88</td>\n",
       "      <td>554700.0</td>\n",
       "      <td>0.0</td>\n",
       "      <td>1.0</td>\n",
       "      <td>9.061319</td>\n",
       "      <td>9.061319</td>\n",
       "      <td>8.861660</td>\n",
       "      <td>8.952809</td>\n",
       "      <td>2218800.0</td>\n",
       "    </tr>\n",
       "    <tr>\n",
       "      <th>1995-01-03</th>\n",
       "      <td>61.88</td>\n",
       "      <td>62.50</td>\n",
       "      <td>61.75</td>\n",
       "      <td>62.38</td>\n",
       "      <td>829600.0</td>\n",
       "      <td>0.0</td>\n",
       "      <td>1.0</td>\n",
       "      <td>8.952809</td>\n",
       "      <td>9.042510</td>\n",
       "      <td>8.934000</td>\n",
       "      <td>9.025149</td>\n",
       "      <td>3318400.0</td>\n",
       "    </tr>\n",
       "  </tbody>\n",
       "</table>\n",
       "</div>"
      ],
      "text/plain": [
       "             Open   High    Low  Close    Volume  ExDividend  SplitRatio  \\\n",
       "Date                                                                       \n",
       "1995-01-09  61.38  61.63  60.75  60.88  448800.0         0.0         1.0   \n",
       "1995-01-06  60.63  61.63  60.63  61.25  859500.0         0.0         1.0   \n",
       "1995-01-05  61.50  61.75  60.88  61.00  579900.0         0.0         1.0   \n",
       "1995-01-04  62.63  62.63  61.25  61.88  554700.0         0.0         1.0   \n",
       "1995-01-03  61.88  62.50  61.75  62.38  829600.0         0.0         1.0   \n",
       "\n",
       "             AdjOpen   AdjHigh    AdjLow  AdjClose  AdjVolume  \n",
       "Date                                                           \n",
       "1995-01-09  8.880469  8.916639  8.789320  8.808129  1795200.0  \n",
       "1995-01-06  8.771959  8.916639  8.771959  8.861660  3438000.0  \n",
       "1995-01-05  8.897830  8.934000  8.808129  8.825490  2319600.0  \n",
       "1995-01-04  9.061319  9.061319  8.861660  8.952809  2218800.0  \n",
       "1995-01-03  8.952809  9.042510  8.934000  9.025149  3318400.0  "
      ]
     },
     "execution_count": 86,
     "metadata": {},
     "output_type": "execute_result"
    }
   ],
   "source": [
    "PG.tail()"
   ]
  },
  {
   "cell_type": "code",
   "execution_count": 87,
   "metadata": {},
   "outputs": [],
   "source": [
    "PG['simple_reture'] = (PG['AdjClose']/PG['AdjClose'].shift(-1))-1"
   ]
  },
  {
   "cell_type": "code",
   "execution_count": 88,
   "metadata": {},
   "outputs": [
    {
     "name": "stdout",
     "output_type": "stream",
     "text": [
      "Date\n",
      "2018-03-27    0.018060\n",
      "2018-03-26    0.006587\n",
      "2018-03-23   -0.006544\n",
      "2018-03-22   -0.008178\n",
      "2018-03-21   -0.016218\n",
      "2018-03-20   -0.004450\n",
      "2018-03-19   -0.003926\n",
      "2018-03-16    0.003813\n",
      "2018-03-15   -0.004177\n",
      "2018-03-14   -0.009032\n",
      "2018-03-13   -0.001753\n",
      "2018-03-12   -0.005356\n",
      "2018-03-09    0.004002\n",
      "2018-03-08    0.010232\n",
      "2018-03-07   -0.010747\n",
      "2018-03-06   -0.003363\n",
      "2018-03-05    0.009937\n",
      "2018-03-02    0.010165\n",
      "2018-03-01    0.002292\n",
      "2018-02-28   -0.025081\n",
      "2018-02-27   -0.013353\n",
      "2018-02-26    0.007156\n",
      "2018-02-23    0.002598\n",
      "2018-02-22    0.007478\n",
      "2018-02-21   -0.013523\n",
      "2018-02-20   -0.015254\n",
      "2018-02-16    0.002306\n",
      "2018-02-15    0.021443\n",
      "2018-02-14   -0.010061\n",
      "2018-02-13    0.002090\n",
      "                ...   \n",
      "1995-02-13    0.005802\n",
      "1995-02-10   -0.001981\n",
      "1995-02-09    0.000000\n",
      "1995-02-08   -0.011299\n",
      "1995-02-07   -0.001805\n",
      "1995-02-06    0.023077\n",
      "1995-02-03    0.009630\n",
      "1995-02-02    0.007827\n",
      "1995-02-01   -0.020996\n",
      "1995-01-31   -0.007605\n",
      "1995-01-30    0.015444\n",
      "1995-01-27    0.025661\n",
      "1995-01-26    0.006056\n",
      "1995-01-25    0.012097\n",
      "1995-01-24    0.000000\n",
      "1995-01-23    0.010101\n",
      "1995-01-20   -0.001951\n",
      "1995-01-19   -0.006141\n",
      "1995-01-18   -0.021660\n",
      "1995-01-17    0.003968\n",
      "1995-01-16    0.008000\n",
      "1995-01-13    0.013710\n",
      "1995-01-12    0.008130\n",
      "1995-01-11   -0.002109\n",
      "1995-01-10    0.012319\n",
      "1995-01-09   -0.006041\n",
      "1995-01-06    0.004098\n",
      "1995-01-05   -0.014221\n",
      "1995-01-04   -0.008015\n",
      "1995-01-03         NaN\n",
      "Name: simple_reture, Length: 5849, dtype: float64\n"
     ]
    }
   ],
   "source": [
    "print (PG['simple_reture'])\n"
   ]
  },
  {
   "cell_type": "code",
   "execution_count": 89,
   "metadata": {},
   "outputs": [
    {
     "data": {
      "text/plain": [
       "<matplotlib.axes._subplots.AxesSubplot at 0x113710080>"
      ]
     },
     "execution_count": 89,
     "metadata": {},
     "output_type": "execute_result"
    },
    {
     "data": {
      "image/png": "[encoded data removed]",
      "text/plain": [
       "<Figure size 576x432 with 1 Axes>"
      ]
     },
     "metadata": {},
     "output_type": "display_data"
    }
   ],
   "source": [
    "PG['simple_reture'].plot(figsize=(8,6))"
   ]
  },
  {
   "cell_type": "code",
   "execution_count": 90,
   "metadata": {},
   "outputs": [],
   "source": [
    "avg_reture_d = PG['simple_reture'].mean()"
   ]
  },
  {
   "cell_type": "code",
   "execution_count": 91,
   "metadata": {},
   "outputs": [
    {
     "data": {
      "text/plain": [
       "0.0004700634230250144"
      ]
     },
     "execution_count": 91,
     "metadata": {},
     "output_type": "execute_result"
    }
   ],
   "source": [
    "avg_reture_d"
   ]
  },
  {
   "cell_type": "code",
   "execution_count": 92,
   "metadata": {},
   "outputs": [],
   "source": [
    "avg_reture_a = PG['simple_reture'].mean() * 250"
   ]
  },
  {
   "cell_type": "code",
   "execution_count": 93,
   "metadata": {},
   "outputs": [
    {
     "data": {
      "text/plain": [
       "0.11751585575625359"
      ]
     },
     "execution_count": 93,
     "metadata": {},
     "output_type": "execute_result"
    }
   ],
   "source": [
    "avg_reture_a"
   ]
  },
  {
   "cell_type": "code",
   "execution_count": 94,
   "metadata": {},
   "outputs": [
    {
     "name": "stdout",
     "output_type": "stream",
     "text": [
      "11.752%\n"
     ]
    }
   ],
   "source": [
    "print(str(round(avg_reture_a,5)*100)+'%')"
   ]
  },
  {
   "cell_type": "code",
   "execution_count": 95,
   "metadata": {},
   "outputs": [],
   "source": [
    "PG['log_return']=np.log(PG['AdjClose']/PG['AdjClose'].shift(-1))"
   ]
  },
  {
   "cell_type": "code",
   "execution_count": 96,
   "metadata": {},
   "outputs": [
    {
     "data": {
      "text/plain": [
       "<matplotlib.axes._subplots.AxesSubplot at 0x1164f0cf8>"
      ]
     },
     "execution_count": 96,
     "metadata": {},
     "output_type": "execute_result"
    },
    {
     "data": {
      "image/png": "[encoded data removed]",
      "text/plain": [
       "<Figure size 576x432 with 1 Axes>"
      ]
     },
     "metadata": {},
     "output_type": "display_data"
    }
   ],
   "source": [
    "PG['log_return'].plot(figsize=(8,6))"
   ]
  },
  {
   "cell_type": "code",
   "execution_count": 97,
   "metadata": {},
   "outputs": [],
   "source": [
    "avg_reture_log = PG['log_return'].mean()*250"
   ]
  },
  {
   "cell_type": "code",
   "execution_count": 98,
   "metadata": {},
   "outputs": [
    {
     "name": "stdout",
     "output_type": "stream",
     "text": [
      "9.208%\n"
     ]
    }
   ],
   "source": [
    "print(str(round(avg_reture_log,5)*100)+'%')"
   ]
  },
  {
   "cell_type": "code",
   "execution_count": 99,
   "metadata": {},
   "outputs": [],
   "source": [
    "tickers = ['PG', 'MSFT', 'F','GE']"
   ]
  },
  {
   "cell_type": "code",
   "execution_count": 100,
   "metadata": {},
   "outputs": [],
   "source": [
    "mydata = pd.DataFrame()"
   ]
  },
  {
   "cell_type": "code",
   "execution_count": 101,
   "metadata": {},
   "outputs": [],
   "source": [
    "for t in tickers:\n",
    "    mydata[t] = wb.DataReader(t, data_source='quandl', start='1995-1-1')['AdjClose']"
   ]
  },
  {
   "cell_type": "code",
   "execution_count": 102,
   "metadata": {},
   "outputs": [
    {
     "name": "stdout",
     "output_type": "stream",
     "text": [
      "<class 'pandas.core.frame.DataFrame'>\n",
      "DatetimeIndex: 5849 entries, 2018-03-27 to 1995-01-03\n",
      "Data columns (total 4 columns):\n",
      "PG      5849 non-null float64\n",
      "MSFT    5849 non-null float64\n",
      "F       5849 non-null float64\n",
      "GE      5849 non-null float64\n",
      "dtypes: float64(4)\n",
      "memory usage: 228.5 KB\n"
     ]
    }
   ],
   "source": [
    "mydata.info()"
   ]
  },
  {
   "cell_type": "code",
   "execution_count": 103,
   "metadata": {},
   "outputs": [
    {
     "data": {
      "text/html": [
       "<div>\n",
       "<style scoped>\n",
       "    .dataframe tbody tr th:only-of-type {\n",
       "        vertical-align: middle;\n",
       "    }\n",
       "\n",
       "    .dataframe tbody tr th {\n",
       "        vertical-align: top;\n",
       "    }\n",
       "\n",
       "    .dataframe thead th {\n",
       "        text-align: right;\n",
       "    }\n",
       "</style>\n",
       "<table border=\"1\" class=\"dataframe\">\n",
       "  <thead>\n",
       "    <tr style=\"text-align: right;\">\n",
       "      <th></th>\n",
       "      <th>PG</th>\n",
       "      <th>MSFT</th>\n",
       "      <th>F</th>\n",
       "      <th>GE</th>\n",
       "    </tr>\n",
       "    <tr>\n",
       "      <th>Date</th>\n",
       "      <th></th>\n",
       "      <th></th>\n",
       "      <th></th>\n",
       "      <th></th>\n",
       "    </tr>\n",
       "  </thead>\n",
       "  <tbody>\n",
       "    <tr>\n",
       "      <th>2018-03-27</th>\n",
       "      <td>77.79</td>\n",
       "      <td>89.47</td>\n",
       "      <td>10.83</td>\n",
       "      <td>13.44</td>\n",
       "    </tr>\n",
       "    <tr>\n",
       "      <th>2018-03-26</th>\n",
       "      <td>76.41</td>\n",
       "      <td>93.78</td>\n",
       "      <td>10.83</td>\n",
       "      <td>12.89</td>\n",
       "    </tr>\n",
       "    <tr>\n",
       "      <th>2018-03-23</th>\n",
       "      <td>75.91</td>\n",
       "      <td>87.18</td>\n",
       "      <td>10.56</td>\n",
       "      <td>13.07</td>\n",
       "    </tr>\n",
       "    <tr>\n",
       "      <th>2018-03-22</th>\n",
       "      <td>76.41</td>\n",
       "      <td>89.79</td>\n",
       "      <td>10.75</td>\n",
       "      <td>13.35</td>\n",
       "    </tr>\n",
       "    <tr>\n",
       "      <th>2018-03-21</th>\n",
       "      <td>77.04</td>\n",
       "      <td>92.48</td>\n",
       "      <td>11.10</td>\n",
       "      <td>13.88</td>\n",
       "    </tr>\n",
       "  </tbody>\n",
       "</table>\n",
       "</div>"
      ],
      "text/plain": [
       "               PG   MSFT      F     GE\n",
       "Date                                  \n",
       "2018-03-27  77.79  89.47  10.83  13.44\n",
       "2018-03-26  76.41  93.78  10.83  12.89\n",
       "2018-03-23  75.91  87.18  10.56  13.07\n",
       "2018-03-22  76.41  89.79  10.75  13.35\n",
       "2018-03-21  77.04  92.48  11.10  13.88"
      ]
     },
     "execution_count": 103,
     "metadata": {},
     "output_type": "execute_result"
    }
   ],
   "source": [
    "mydata.head()"
   ]
  },
  {
   "cell_type": "code",
   "execution_count": 104,
   "metadata": {},
   "outputs": [
    {
     "data": {
      "text/html": [
       "<div>\n",
       "<style scoped>\n",
       "    .dataframe tbody tr th:only-of-type {\n",
       "        vertical-align: middle;\n",
       "    }\n",
       "\n",
       "    .dataframe tbody tr th {\n",
       "        vertical-align: top;\n",
       "    }\n",
       "\n",
       "    .dataframe thead th {\n",
       "        text-align: right;\n",
       "    }\n",
       "</style>\n",
       "<table border=\"1\" class=\"dataframe\">\n",
       "  <thead>\n",
       "    <tr style=\"text-align: right;\">\n",
       "      <th></th>\n",
       "      <th>PG</th>\n",
       "      <th>MSFT</th>\n",
       "      <th>F</th>\n",
       "      <th>GE</th>\n",
       "    </tr>\n",
       "    <tr>\n",
       "      <th>Date</th>\n",
       "      <th></th>\n",
       "      <th></th>\n",
       "      <th></th>\n",
       "      <th></th>\n",
       "    </tr>\n",
       "  </thead>\n",
       "  <tbody>\n",
       "    <tr>\n",
       "      <th>1995-01-09</th>\n",
       "      <td>8.808129</td>\n",
       "      <td>2.506743</td>\n",
       "      <td>4.948832</td>\n",
       "      <td>4.442732</td>\n",
       "    </tr>\n",
       "    <tr>\n",
       "      <th>1995-01-06</th>\n",
       "      <td>8.861660</td>\n",
       "      <td>2.522554</td>\n",
       "      <td>4.863123</td>\n",
       "      <td>4.486824</td>\n",
       "    </tr>\n",
       "    <tr>\n",
       "      <th>1995-01-05</th>\n",
       "      <td>8.825490</td>\n",
       "      <td>2.480948</td>\n",
       "      <td>4.863123</td>\n",
       "      <td>4.508870</td>\n",
       "    </tr>\n",
       "    <tr>\n",
       "      <th>1995-01-04</th>\n",
       "      <td>8.952809</td>\n",
       "      <td>2.522554</td>\n",
       "      <td>4.905978</td>\n",
       "      <td>4.497406</td>\n",
       "    </tr>\n",
       "    <tr>\n",
       "      <th>1995-01-03</th>\n",
       "      <td>9.025149</td>\n",
       "      <td>2.504247</td>\n",
       "      <td>4.777414</td>\n",
       "      <td>4.497406</td>\n",
       "    </tr>\n",
       "  </tbody>\n",
       "</table>\n",
       "</div>"
      ],
      "text/plain": [
       "                  PG      MSFT         F        GE\n",
       "Date                                              \n",
       "1995-01-09  8.808129  2.506743  4.948832  4.442732\n",
       "1995-01-06  8.861660  2.522554  4.863123  4.486824\n",
       "1995-01-05  8.825490  2.480948  4.863123  4.508870\n",
       "1995-01-04  8.952809  2.522554  4.905978  4.497406\n",
       "1995-01-03  9.025149  2.504247  4.777414  4.497406"
      ]
     },
     "execution_count": 104,
     "metadata": {},
     "output_type": "execute_result"
    }
   ],
   "source": [
    "mydata.tail()"
   ]
  },
  {
   "cell_type": "code",
   "execution_count": 105,
   "metadata": {},
   "outputs": [
    {
     "data": {
      "text/plain": [
       "PG      77.79\n",
       "MSFT    89.47\n",
       "F       10.83\n",
       "GE      13.44\n",
       "Name: 2018-03-27 00:00:00, dtype: float64"
      ]
     },
     "execution_count": 105,
     "metadata": {},
     "output_type": "execute_result"
    }
   ],
   "source": [
    "mydata.iloc[0]"
   ]
  },
  {
   "cell_type": "code",
   "execution_count": 106,
   "metadata": {},
   "outputs": [
    {
     "data": {
      "text/plain": [
       "PG      9.025149\n",
       "MSFT    2.504247\n",
       "F       4.777414\n",
       "GE      4.497406\n",
       "Name: 1995-01-03 00:00:00, dtype: float64"
      ]
     },
     "execution_count": 106,
     "metadata": {},
     "output_type": "execute_result"
    }
   ],
   "source": [
    "mydata.iloc[-1]"
   ]
  },
  {
   "cell_type": "code",
   "execution_count": 107,
   "metadata": {},
   "outputs": [],
   "source": [
    "df2 = (mydata/mydata.iloc[-1]*100)"
   ]
  },
  {
   "cell_type": "code",
   "execution_count": 108,
   "metadata": {},
   "outputs": [
    {
     "data": {
      "text/plain": [
       "<matplotlib.axes._subplots.AxesSubplot at 0x1167f0ac8>"
      ]
     },
     "execution_count": 108,
     "metadata": {},
     "output_type": "execute_result"
    },
    {
     "data": {
      "image/png": "[encoded data removed]",
      "text/plain": [
       "<Figure size 1080x432 with 1 Axes>"
      ]
     },
     "metadata": {},
     "output_type": "display_data"
    }
   ],
   "source": [
    "df2.plot(figsize=(15,6))"
   ]
  },
  {
   "cell_type": "code",
   "execution_count": 109,
   "metadata": {},
   "outputs": [
    {
     "data": {
      "text/plain": [
       "<matplotlib.axes._subplots.AxesSubplot at 0x113f3e668>"
      ]
     },
     "execution_count": 109,
     "metadata": {},
     "output_type": "execute_result"
    },
    {
     "data": {
      "image/png": "[encoded data removed]",
      "text/plain": [
       "<Figure size 1080x432 with 1 Axes>"
      ]
     },
     "metadata": {},
     "output_type": "display_data"
    }
   ],
   "source": [
    "mydata.plot(figsize=(15,6))"
   ]
  },
  {
   "cell_type": "code",
   "execution_count": 110,
   "metadata": {},
   "outputs": [],
   "source": [
    "returns = (mydata/mydata.shift(-1))-1"
   ]
  },
  {
   "cell_type": "code",
   "execution_count": 111,
   "metadata": {},
   "outputs": [
    {
     "data": {
      "text/html": [
       "<div>\n",
       "<style scoped>\n",
       "    .dataframe tbody tr th:only-of-type {\n",
       "        vertical-align: middle;\n",
       "    }\n",
       "\n",
       "    .dataframe tbody tr th {\n",
       "        vertical-align: top;\n",
       "    }\n",
       "\n",
       "    .dataframe thead th {\n",
       "        text-align: right;\n",
       "    }\n",
       "</style>\n",
       "<table border=\"1\" class=\"dataframe\">\n",
       "  <thead>\n",
       "    <tr style=\"text-align: right;\">\n",
       "      <th></th>\n",
       "      <th>PG</th>\n",
       "      <th>MSFT</th>\n",
       "      <th>F</th>\n",
       "      <th>GE</th>\n",
       "    </tr>\n",
       "    <tr>\n",
       "      <th>Date</th>\n",
       "      <th></th>\n",
       "      <th></th>\n",
       "      <th></th>\n",
       "      <th></th>\n",
       "    </tr>\n",
       "  </thead>\n",
       "  <tbody>\n",
       "    <tr>\n",
       "      <th>2018-03-27</th>\n",
       "      <td>0.018060</td>\n",
       "      <td>-0.045959</td>\n",
       "      <td>0.000000</td>\n",
       "      <td>0.042669</td>\n",
       "    </tr>\n",
       "    <tr>\n",
       "      <th>2018-03-26</th>\n",
       "      <td>0.006587</td>\n",
       "      <td>0.075705</td>\n",
       "      <td>0.025568</td>\n",
       "      <td>-0.013772</td>\n",
       "    </tr>\n",
       "    <tr>\n",
       "      <th>2018-03-23</th>\n",
       "      <td>-0.006544</td>\n",
       "      <td>-0.029068</td>\n",
       "      <td>-0.017674</td>\n",
       "      <td>-0.020974</td>\n",
       "    </tr>\n",
       "    <tr>\n",
       "      <th>2018-03-22</th>\n",
       "      <td>-0.008178</td>\n",
       "      <td>-0.029087</td>\n",
       "      <td>-0.031532</td>\n",
       "      <td>-0.038184</td>\n",
       "    </tr>\n",
       "    <tr>\n",
       "      <th>2018-03-21</th>\n",
       "      <td>-0.016218</td>\n",
       "      <td>-0.006979</td>\n",
       "      <td>0.010009</td>\n",
       "      <td>0.017595</td>\n",
       "    </tr>\n",
       "  </tbody>\n",
       "</table>\n",
       "</div>"
      ],
      "text/plain": [
       "                  PG      MSFT         F        GE\n",
       "Date                                              \n",
       "2018-03-27  0.018060 -0.045959  0.000000  0.042669\n",
       "2018-03-26  0.006587  0.075705  0.025568 -0.013772\n",
       "2018-03-23 -0.006544 -0.029068 -0.017674 -0.020974\n",
       "2018-03-22 -0.008178 -0.029087 -0.031532 -0.038184\n",
       "2018-03-21 -0.016218 -0.006979  0.010009  0.017595"
      ]
     },
     "execution_count": 111,
     "metadata": {},
     "output_type": "execute_result"
    }
   ],
   "source": [
    "returns.head()"
   ]
  },
  {
   "cell_type": "code",
   "execution_count": 112,
   "metadata": {},
   "outputs": [],
   "source": [
    "weights = np.array([0.25,0.25,0.25,0.25])"
   ]
  },
  {
   "cell_type": "code",
   "execution_count": 113,
   "metadata": {},
   "outputs": [
    {
     "data": {
      "text/plain": [
       "array([ 0.00369264,  0.02352209, -0.01856492, ..., -0.00922517,\n",
       "        0.00655136,         nan])"
      ]
     },
     "execution_count": 113,
     "metadata": {},
     "output_type": "execute_result"
    }
   ],
   "source": [
    "np.dot(returns,weights)"
   ]
  },
  {
   "cell_type": "code",
   "execution_count": 114,
   "metadata": {},
   "outputs": [],
   "source": [
    "annual_returns = returns.mean()*250"
   ]
  },
  {
   "cell_type": "code",
   "execution_count": 115,
   "metadata": {},
   "outputs": [
    {
     "data": {
      "text/plain": [
       "0.13118411098159546"
      ]
     },
     "execution_count": 115,
     "metadata": {},
     "output_type": "execute_result"
    }
   ],
   "source": [
    "np.dot(annual_returns, weights)"
   ]
  },
  {
   "cell_type": "code",
   "execution_count": 126,
   "metadata": {},
   "outputs": [],
   "source": [
    "pfolio_1 = str( round(np.dot(annual_returns,weights*100),3) )   +'%'"
   ]
  },
  {
   "cell_type": "code",
   "execution_count": 127,
   "metadata": {},
   "outputs": [
    {
     "name": "stdout",
     "output_type": "stream",
     "text": [
      "13.118%\n"
     ]
    }
   ],
   "source": [
    "print(pfolio_1)"
   ]
  },
  {
   "cell_type": "code",
   "execution_count": 129,
   "metadata": {},
   "outputs": [],
   "source": [
    "weights_2 = np.array([0.4,0.4,0.15,0.05])"
   ]
  },
  {
   "cell_type": "code",
   "execution_count": 130,
   "metadata": {},
   "outputs": [],
   "source": [
    "pfolio_2 = str( round(np.dot(annual_returns,weights_2*100),3) )   +'%'"
   ]
  },
  {
   "cell_type": "code",
   "execution_count": 131,
   "metadata": {},
   "outputs": [
    {
     "name": "stdout",
     "output_type": "stream",
     "text": [
      "14.982%\n"
     ]
    }
   ],
   "source": [
    "print(pfolio_2)"
   ]
  },
  {
   "cell_type": "code",
   "execution_count": null,
   "metadata": {},
   "outputs": [],
   "source": []
  }
 ],
 "metadata": {
  "kernelspec": {
   "display_name": "Python 3",
   "language": "python",
   "name": "python3"
  },
  "language_info": {
   "codemirror_mode": {
    "name": "ipython",
    "version": 3
   },
   "file_extension": ".py",
   "mimetype": "text/x-python",
   "name": "python",
   "nbconvert_exporter": "python",
   "pygments_lexer": "ipython3",
   "version": "3.6.4"
  }
 },
 "nbformat": 4,
 "nbformat_minor": 2
}
